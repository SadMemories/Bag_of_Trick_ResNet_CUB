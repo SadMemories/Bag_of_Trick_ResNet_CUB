{
 "cells": [
  {
   "cell_type": "code",
   "execution_count": 1,
   "id": "39646791",
   "metadata": {},
   "outputs": [
    {
     "data": {
      "text/plain": [
       "'\\n观察CUB数据集中训练集和测试集的类别分布\\n'"
      ]
     },
     "execution_count": 1,
     "metadata": {},
     "output_type": "execute_result"
    }
   ],
   "source": [
    "'''\n",
    "观察CUB数据集中训练集和测试集的类别分布\n",
    "'''"
   ]
  },
  {
   "cell_type": "code",
   "execution_count": 2,
   "id": "bd861d9f",
   "metadata": {},
   "outputs": [],
   "source": [
    "import os \n",
    "\n",
    "root_path = '/datasets/CUB/CUB_200_2011'\n",
    "assert os.path.exists(root_path), '{} root path is not exists...'.format(root_path)\n",
    "\n",
    "image_txt_path = os.path.join(root_path, 'images.txt')\n",
    "train_test_path = os.path.join(root_path, 'train_test_split.txt')\n",
    "assert os.path.exists(image_txt_path), '{} images.txt is not exists...'.format(image_txt_path)\n",
    "assert os.path.exists(train_test_path), '{} train_test_split.txt file is not exists...'.format(train_test_path)"
   ]
  },
  {
   "cell_type": "code",
   "execution_count": 3,
   "id": "b3936715",
   "metadata": {},
   "outputs": [
    {
     "name": "stdout",
     "output_type": "stream",
     "text": [
      "11788\n",
      "5994\n"
     ]
    }
   ],
   "source": [
    "# image_class_id: image_id -> label\n",
    "# train_test: image_id\n",
    "\n",
    "image_class_id = {}\n",
    "with open(image_txt_path) as f:\n",
    "    for line in f:\n",
    "        image_id, label = line.split()\n",
    "        image_class_id[image_id] = int(label.split('.')[0]) - 1\n",
    "\n",
    "train_test = []\n",
    "with open(train_test_path) as f:\n",
    "    for line in f:\n",
    "        image_id, sysb = line.split()\n",
    "        if int(sysb) == 1:\n",
    "            train_test.append(image_id)\n",
    "\n",
    "print(len(image_class_id))\n",
    "print(len(train_test))"
   ]
  },
  {
   "cell_type": "code",
   "execution_count": 4,
   "id": "c6b52506",
   "metadata": {},
   "outputs": [
    {
     "data": {
      "text/html": [
       "<div>\n",
       "<style scoped>\n",
       "    .dataframe tbody tr th:only-of-type {\n",
       "        vertical-align: middle;\n",
       "    }\n",
       "\n",
       "    .dataframe tbody tr th {\n",
       "        vertical-align: top;\n",
       "    }\n",
       "\n",
       "    .dataframe thead th {\n",
       "        text-align: right;\n",
       "    }\n",
       "</style>\n",
       "<table border=\"1\" class=\"dataframe\">\n",
       "  <thead>\n",
       "    <tr style=\"text-align: right;\">\n",
       "      <th></th>\n",
       "      <th>0</th>\n",
       "    </tr>\n",
       "  </thead>\n",
       "  <tbody>\n",
       "    <tr>\n",
       "      <th>1</th>\n",
       "      <td>0</td>\n",
       "    </tr>\n",
       "    <tr>\n",
       "      <th>2</th>\n",
       "      <td>0</td>\n",
       "    </tr>\n",
       "    <tr>\n",
       "      <th>3</th>\n",
       "      <td>0</td>\n",
       "    </tr>\n",
       "    <tr>\n",
       "      <th>4</th>\n",
       "      <td>0</td>\n",
       "    </tr>\n",
       "    <tr>\n",
       "      <th>5</th>\n",
       "      <td>0</td>\n",
       "    </tr>\n",
       "  </tbody>\n",
       "</table>\n",
       "</div>"
      ],
      "text/plain": [
       "   0\n",
       "1  0\n",
       "2  0\n",
       "3  0\n",
       "4  0\n",
       "5  0"
      ]
     },
     "execution_count": 4,
     "metadata": {},
     "output_type": "execute_result"
    }
   ],
   "source": [
    "import pandas as pd\n",
    "\n",
    "df = pd.DataFrame(image_class_id, index=[0]).T\n",
    "df.head()"
   ]
  },
  {
   "cell_type": "code",
   "execution_count": 5,
   "id": "68d07f71",
   "metadata": {},
   "outputs": [
    {
     "data": {
      "image/png": "[encoded data removed]",
      "text/plain": [
       "<Figure size 1080x504 with 1 Axes>"
      ]
     },
     "metadata": {
      "needs_background": "light"
     },
     "output_type": "display_data"
    }
   ],
   "source": [
    "import matplotlib.pyplot as plt\n",
    "\n",
    "class_count = df.groupby(0)[0].count()\n",
    "\n",
    "f = plt.figure(figsize=(15, 7))\n",
    "f.add_subplot(111)\n",
    "\n",
    "plt.bar(class_count.index, class_count.values, color='red')\n",
    "for i in class_count.index:\n",
    "    plt.text(i, class_count.values[i], str(class_count.values[i]), horizontalalignment='center', fontsize=2)\n",
    "plt.xlabel('index', fontsize=14)\n",
    "plt.ylabel('count', fontsize=14)\n",
    "plt.title('class distribution', fontsize=14)\n",
    "# plt.xticks(class_count.index)\n",
    "plt.show()"
   ]
  }
 ],
 "metadata": {
  "kernelspec": {
   "display_name": "Python 3",
   "language": "python",
   "name": "python3"
  },
  "language_info": {
   "codemirror_mode": {
    "name": "ipython",
    "version": 3
   },
   "file_extension": ".py",
   "mimetype": "text/x-python",
   "name": "python",
   "nbconvert_exporter": "python",
   "pygments_lexer": "ipython3",
   "version": "3.7.9"
  }
 },
 "nbformat": 4,
 "nbformat_minor": 5
}
